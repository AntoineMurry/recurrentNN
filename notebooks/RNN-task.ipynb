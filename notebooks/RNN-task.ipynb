{
 "cells": [
  {
   "cell_type": "markdown",
   "metadata": {},
   "source": [
    "# Generating names with recurrent neural networks\n",
    "\n",
    "This time you'll find yourself delving into the heart (and other intestines) of recurrent neural networks on a class of toy problems.\n",
    "\n",
    "Struggle to find a name for the variable? Let's see how you'll come up with a name for your son/daughter. Surely no human has expertize over what is a good child name, so let us train RNN instead;\n",
    "\n",
    "It's dangerous to go alone, take these:"
   ]
  },
  {
   "cell_type": "code",
   "execution_count": 1,
   "metadata": {
    "ExecuteTime": {
     "end_time": "2018-08-13T20:26:42.696201Z",
     "start_time": "2018-08-13T20:26:38.104103Z"
    }
   },
   "outputs": [
    {
     "name": "stdout",
     "output_type": "stream",
     "text": [
      "1.2.1\n"
     ]
    },
    {
     "name": "stderr",
     "output_type": "stream",
     "text": [
      "Using TensorFlow backend.\n"
     ]
    }
   ],
   "source": [
    "import tensorflow as tf\n",
    "print(tf.__version__)\n",
    "import numpy as np\n",
    "import matplotlib.pyplot as plt\n",
    "%matplotlib inline\n",
    "import os\n",
    "import sys\n",
    "sys.path.append(\"..\")\n",
    "import keras_utils\n",
    "import tqdm_utils"
   ]
  },
  {
   "cell_type": "markdown",
   "metadata": {},
   "source": [
    "# Load data\n",
    "The dataset contains ~8k earthling names from different cultures, all in latin transcript.\n",
    "\n",
    "This notebook has been designed so as to allow you to quickly swap names for something similar: deep learning article titles, IKEA furniture, pokemon names, etc."
   ]
  },
  {
   "cell_type": "code",
   "execution_count": 2,
   "metadata": {
    "ExecuteTime": {
     "end_time": "2018-08-13T20:26:42.701832Z",
     "start_time": "2018-08-13T20:26:42.697766Z"
    },
    "collapsed": true
   },
   "outputs": [],
   "source": [
    "start_token = \" \"  # so that the network knows that we're generating a first token\n",
    "\n",
    "# this is the token for padding,\n",
    "# we will add fake pad token at the end of names \n",
    "# to make them of equal size for further batching\n",
    "pad_token = \"#\"\n",
    "\n",
    "with open(\"names\") as f:\n",
    "    names = f.read()[:-1].split('\\n')\n",
    "    names = [start_token + name for name in names]"
   ]
  },
  {
   "cell_type": "code",
   "execution_count": 3,
   "metadata": {
    "ExecuteTime": {
     "end_time": "2018-08-13T20:26:42.707885Z",
     "start_time": "2018-08-13T20:26:42.703302Z"
    }
   },
   "outputs": [
    {
     "name": "stdout",
     "output_type": "stream",
     "text": [
      "number of samples: 7944\n",
      " Abagael\n",
      " Claresta\n",
      " Glory\n",
      " Liliane\n",
      " Prissie\n",
      " Geeta\n",
      " Giovanne\n",
      " Piggy\n"
     ]
    }
   ],
   "source": [
    "print('number of samples:', len(names))\n",
    "for x in names[::1000]:\n",
    "    print(x)"
   ]
  },
  {
   "cell_type": "code",
   "execution_count": 4,
   "metadata": {},
   "outputs": [
    {
     "data": {
      "text/plain": [
       "7944"
      ]
     },
     "execution_count": 4,
     "metadata": {},
     "output_type": "execute_result"
    }
   ],
   "source": [
    "len(names)"
   ]
  },
  {
   "cell_type": "code",
   "execution_count": 5,
   "metadata": {
    "ExecuteTime": {
     "end_time": "2018-08-13T20:26:42.857411Z",
     "start_time": "2018-08-13T20:26:42.709371Z"
    }
   },
   "outputs": [
    {
     "name": "stdout",
     "output_type": "stream",
     "text": [
      "max length: 16\n"
     ]
    },
    {
     "data": {
      "image/png": "[encoded data removed]",
      "text/plain": [
       "<matplotlib.figure.Figure at 0x7f35cfea35f8>"
      ]
     },
     "metadata": {},
     "output_type": "display_data"
    }
   ],
   "source": [
    "MAX_LENGTH = max(map(len, names))\n",
    "print(\"max length:\", MAX_LENGTH)\n",
    "\n",
    "plt.title('Sequence length distribution')\n",
    "plt.hist(list(map(len, names)), bins=25);"
   ]
  },
  {
   "cell_type": "markdown",
   "metadata": {},
   "source": [
    "# Text processing\n",
    "\n",
    "First we need to collect a \"vocabulary\" of all unique tokens i.e. unique characters. We can then encode inputs as a sequence of character ids."
   ]
  },
  {
   "cell_type": "code",
   "execution_count": 6,
   "metadata": {
    "ExecuteTime": {
     "end_time": "2018-08-13T20:26:42.864592Z",
     "start_time": "2018-08-13T20:26:42.858725Z"
    }
   },
   "outputs": [
    {
     "name": "stdout",
     "output_type": "stream",
     "text": [
      "n_tokens: 56\n"
     ]
    }
   ],
   "source": [
    "tokens = set([c for name in names for c in name] + [pad_token])### YOUR CODE HERE: all unique characters go here, padding included!\n",
    "\n",
    "tokens = list(tokens)\n",
    "n_tokens = len(tokens)\n",
    "print ('n_tokens:', n_tokens)\n",
    "\n",
    "assert 50 < n_tokens < 60"
   ]
  },
  {
   "cell_type": "markdown",
   "metadata": {},
   "source": [
    "### Cast everything from symbols into identifiers\n",
    "\n",
    "Tensorflow string manipulation is a bit tricky, so we'll work around it. \n",
    "We'll feed our recurrent neural network with ids of characters from our dictionary.\n",
    "\n",
    "To create such dictionary, let's assign `token_to_id`"
   ]
  },
  {
   "cell_type": "code",
   "execution_count": 7,
   "metadata": {
    "ExecuteTime": {
     "end_time": "2018-08-13T20:26:42.870330Z",
     "start_time": "2018-08-13T20:26:42.866135Z"
    },
    "collapsed": true
   },
   "outputs": [],
   "source": [
    "token_to_id = {tokens[i]: i for i in range(len(tokens))} ### YOUR CODE HERE: create a dictionary of {symbol -> its  index in tokens}\n",
    "\n",
    "assert len(tokens) == len(token_to_id), \"dictionaries must have same size\""
   ]
  },
  {
   "cell_type": "code",
   "execution_count": 8,
   "metadata": {
    "ExecuteTime": {
     "end_time": "2018-08-13T20:26:42.875943Z",
     "start_time": "2018-08-13T20:26:42.871834Z"
    },
    "collapsed": true
   },
   "outputs": [],
   "source": [
    "def to_matrix(names, max_len=None, pad=token_to_id[pad_token], dtype=np.int32):\n",
    "    \"\"\"Casts a list of names into rnn-digestable padded matrix\"\"\"\n",
    "    \n",
    "    max_len = max_len or max(map(len, names))\n",
    "    names_ix = np.zeros([len(names), max_len], dtype) + pad\n",
    "\n",
    "    for i in range(len(names)):\n",
    "        name_ix = list(map(token_to_id.get, names[i]))\n",
    "        names_ix[i, :len(name_ix)] = name_ix\n",
    "\n",
    "    return names_ix"
   ]
  },
  {
   "cell_type": "code",
   "execution_count": 9,
   "metadata": {},
   "outputs": [
    {
     "data": {
      "text/plain": [
       "17"
      ]
     },
     "execution_count": 9,
     "metadata": {},
     "output_type": "execute_result"
    }
   ],
   "source": [
    "token_to_id['#']"
   ]
  },
  {
   "cell_type": "code",
   "execution_count": 10,
   "metadata": {},
   "outputs": [
    {
     "data": {
      "text/plain": [
       "25"
      ]
     },
     "execution_count": 10,
     "metadata": {},
     "output_type": "execute_result"
    }
   ],
   "source": [
    "token_to_id[' ']"
   ]
  },
  {
   "cell_type": "code",
   "execution_count": 11,
   "metadata": {
    "ExecuteTime": {
     "end_time": "2018-08-13T20:26:42.883107Z",
     "start_time": "2018-08-13T20:26:42.877186Z"
    }
   },
   "outputs": [
    {
     "name": "stdout",
     "output_type": "stream",
     "text": [
      " Abagael\n",
      " Glory\n",
      " Prissie\n",
      " Giovanne\n",
      "[[25 15 45 50 11 50 18 22 17]\n",
      " [25 34 22 51 23 41 17 17 17]\n",
      " [25  0 23 29 47 47 29 18 17]\n",
      " [25 34 29 51 52 50 14 14 18]]\n"
     ]
    }
   ],
   "source": [
    "# Example: cast 4 random names to padded matrices (so that we can easily batch them)\n",
    "print('\\n'.join(names[::2000]))\n",
    "print(to_matrix(names[::2000]))"
   ]
  },
  {
   "cell_type": "markdown",
   "metadata": {},
   "source": [
    "# Defining a recurrent neural network\n",
    "\n",
    "We can rewrite recurrent neural network as a consecutive application of dense layer to input $x_t$ and previous rnn state $h_t$. This is exactly what we're gonna do now.\n",
    "<img src=\"./rnn.png\" width=600>\n",
    "\n",
    "Since we're training a language model, there should also be:\n",
    "* An embedding layer that converts character id x_t to a vector.\n",
    "* An output layer that predicts probabilities of next phoneme based on h_t+1"
   ]
  },
  {
   "cell_type": "code",
   "execution_count": 12,
   "metadata": {
    "ExecuteTime": {
     "end_time": "2018-08-13T20:26:44.039419Z",
     "start_time": "2018-08-13T20:26:42.884581Z"
    },
    "collapsed": true
   },
   "outputs": [],
   "source": [
    "# remember to reset your session if you change your graph!\n",
    "s = keras_utils.reset_tf_session()"
   ]
  },
  {
   "cell_type": "code",
   "execution_count": 13,
   "metadata": {
    "ExecuteTime": {
     "end_time": "2018-08-13T20:26:44.044903Z",
     "start_time": "2018-08-13T20:26:44.041084Z"
    },
    "collapsed": true
   },
   "outputs": [],
   "source": [
    "import keras\n",
    "from keras.layers import concatenate, Dense, Embedding\n",
    "\n",
    "rnn_num_units = 64  # size of hidden state\n",
    "embedding_size = 16  # for characters\n",
    "\n",
    "# Let's create layers for our recurrent network\n",
    "# Note: we create layers but we don't \"apply\" them yet (this is a \"functional API\" of Keras)\n",
    "# Note: set the correct activation (from keras.activations) to Dense layers!\n",
    "\n",
    "# an embedding layer that converts character ids into embeddings\n",
    "embed_x = Embedding(n_tokens, embedding_size)\n",
    "\n",
    "# a dense layer that maps input and previous state to new hidden state, [x_t,h_t]->h_t+1\n",
    "get_h_next = Dense(rnn_num_units, activation='tanh') ### YOUR CODE HERE\n",
    "\n",
    "# a dense layer that maps current hidden state to probabilities of characters [h_t+1]->P(x_t+1|h_t+1)\n",
    "get_probas = Dense(n_tokens, activation='softmax')### YOUR CODE HERE "
   ]
  },
  {
   "cell_type": "code",
   "execution_count": 33,
   "metadata": {},
   "outputs": [
    {
     "data": {
      "text/plain": [
       "<keras.layers.core.Dense at 0x7f35cac74dd8>"
      ]
     },
     "execution_count": 33,
     "metadata": {},
     "output_type": "execute_result"
    }
   ],
   "source": [
    "get_h_next"
   ]
  },
  {
   "cell_type": "code",
   "execution_count": 34,
   "metadata": {},
   "outputs": [
    {
     "data": {
      "text/plain": [
       "64"
      ]
     },
     "execution_count": 34,
     "metadata": {},
     "output_type": "execute_result"
    }
   ],
   "source": [
    "rnn_num_units"
   ]
  },
  {
   "cell_type": "markdown",
   "metadata": {},
   "source": [
    "We will generate names character by character starting with `start_token`:\n",
    "\n",
    "<img src=\"./char-nn.png\" width=600>"
   ]
  },
  {
   "cell_type": "code",
   "execution_count": 14,
   "metadata": {
    "ExecuteTime": {
     "end_time": "2018-08-13T20:26:44.053212Z",
     "start_time": "2018-08-13T20:26:44.048389Z"
    },
    "collapsed": true
   },
   "outputs": [],
   "source": [
    "def rnn_one_step(x_t, h_t):\n",
    "    \"\"\"\n",
    "    Recurrent neural network step that produces \n",
    "    probabilities for next token x_t+1 and next state h_t+1\n",
    "    given current input x_t and previous state h_t.\n",
    "    We'll call this method repeatedly to produce the whole sequence.\n",
    "    \n",
    "    You're supposed to \"apply\" above layers to produce new tensors.\n",
    "    Follow inline instructions to complete the function.\n",
    "    \"\"\"\n",
    "    # convert character id into embedding\n",
    "    x_t_emb = embed_x(tf.reshape(x_t, [-1, 1]))[:, 0]\n",
    "    \n",
    "    # concatenate x_t embedding and previous h_t state\n",
    "    x_and_h = concatenate([x_t_emb, h_t]) ### YOUR CODE HERE\n",
    "    \n",
    "    # compute next state given x_and_h\n",
    "    h_next = get_h_next(x_and_h) ### YOUR CODE HERE\n",
    "    \n",
    "    # get probabilities for language model P(x_next|h_next)\n",
    "    output_probas = get_probas(h_next) ### YOUR CODE HERE\n",
    "    \n",
    "    return output_probas, h_next"
   ]
  },
  {
   "cell_type": "code",
   "execution_count": 15,
   "metadata": {
    "collapsed": true
   },
   "outputs": [],
   "source": [
    "input_sequence = tf.placeholder(tf.int32, (None, MAX_LENGTH))  # batch of token ids\n",
    "batch_size = tf.shape(input_sequence)[0]\n",
    "\n",
    "predicted_probas = []\n",
    "h_prev = tf.zeros([batch_size, rnn_num_units])  # initial hidden state\n",
    "x_t = input_sequence[:, 0]"
   ]
  },
  {
   "cell_type": "code",
   "execution_count": null,
   "metadata": {
    "collapsed": true
   },
   "outputs": [],
   "source": []
  },
  {
   "cell_type": "markdown",
   "metadata": {},
   "source": [
    "# RNN: loop\n",
    "\n",
    "Once `rnn_one_step` is ready, let's apply it in a loop over name characters to get predictions.\n",
    "\n",
    "Let's assume that all names are at most length-16 for now, so we can simply iterate over them in a for loop.\n"
   ]
  },
  {
   "cell_type": "code",
   "execution_count": 16,
   "metadata": {
    "ExecuteTime": {
     "end_time": "2018-08-13T20:26:44.342948Z",
     "start_time": "2018-08-13T20:26:44.056136Z"
    },
    "collapsed": true
   },
   "outputs": [],
   "source": [
    "input_sequence = tf.placeholder(tf.int32, (None, MAX_LENGTH))  # batch of token ids\n",
    "batch_size = tf.shape(input_sequence)[0]\n",
    "\n",
    "predicted_probas = []\n",
    "h_prev = tf.zeros([batch_size, rnn_num_units])  # initial hidden state\n",
    "\n",
    "for t in range(MAX_LENGTH):\n",
    "    x_t = input_sequence[:, t]  # column t\n",
    "    probas_next, h_next = rnn_one_step(x_t, h_prev)\n",
    "    \n",
    "    h_prev = h_next\n",
    "    predicted_probas.append(probas_next)\n",
    "    \n",
    "# combine predicted_probas into [batch, time, n_tokens] tensor\n",
    "predicted_probas = tf.transpose(tf.stack(predicted_probas), [1, 0, 2])\n",
    "\n",
    "# next to last token prediction is not needed\n",
    "predicted_probas = predicted_probas[:, :-1, :]"
   ]
  },
  {
   "cell_type": "code",
   "execution_count": 17,
   "metadata": {
    "collapsed": true
   },
   "outputs": [],
   "source": [
    "input_sequence = tf.placeholder(tf.int32, (None, MAX_LENGTH))  # batch of token ids\n",
    "batch_size = tf.shape(input_sequence)[0]\n",
    "\n",
    "predicted_probas = []\n",
    "h_prev = tf.zeros([batch_size, rnn_num_units])  # initial hidden state\n",
    "\n",
    "for t in range(MAX_LENGTH):\n",
    "    x_t = input_sequence[:, t]  # column t\n",
    "    probas_next, h_next = rnn_one_step(x_t, h_prev)\n",
    "    \n",
    "    h_prev = h_next\n",
    "    predicted_probas.append(probas_next)"
   ]
  },
  {
   "cell_type": "code",
   "execution_count": 18,
   "metadata": {},
   "outputs": [
    {
     "data": {
      "text/plain": [
       "[<tf.Tensor 'dense_2_16/Softmax:0' shape=(?, 56) dtype=float32>,\n",
       " <tf.Tensor 'dense_2_17/Softmax:0' shape=(?, 56) dtype=float32>,\n",
       " <tf.Tensor 'dense_2_18/Softmax:0' shape=(?, 56) dtype=float32>,\n",
       " <tf.Tensor 'dense_2_19/Softmax:0' shape=(?, 56) dtype=float32>,\n",
       " <tf.Tensor 'dense_2_20/Softmax:0' shape=(?, 56) dtype=float32>,\n",
       " <tf.Tensor 'dense_2_21/Softmax:0' shape=(?, 56) dtype=float32>,\n",
       " <tf.Tensor 'dense_2_22/Softmax:0' shape=(?, 56) dtype=float32>,\n",
       " <tf.Tensor 'dense_2_23/Softmax:0' shape=(?, 56) dtype=float32>,\n",
       " <tf.Tensor 'dense_2_24/Softmax:0' shape=(?, 56) dtype=float32>,\n",
       " <tf.Tensor 'dense_2_25/Softmax:0' shape=(?, 56) dtype=float32>,\n",
       " <tf.Tensor 'dense_2_26/Softmax:0' shape=(?, 56) dtype=float32>,\n",
       " <tf.Tensor 'dense_2_27/Softmax:0' shape=(?, 56) dtype=float32>,\n",
       " <tf.Tensor 'dense_2_28/Softmax:0' shape=(?, 56) dtype=float32>,\n",
       " <tf.Tensor 'dense_2_29/Softmax:0' shape=(?, 56) dtype=float32>,\n",
       " <tf.Tensor 'dense_2_30/Softmax:0' shape=(?, 56) dtype=float32>,\n",
       " <tf.Tensor 'dense_2_31/Softmax:0' shape=(?, 56) dtype=float32>]"
      ]
     },
     "execution_count": 18,
     "metadata": {},
     "output_type": "execute_result"
    }
   ],
   "source": [
    "predicted_probas"
   ]
  },
  {
   "cell_type": "code",
   "execution_count": 19,
   "metadata": {},
   "outputs": [
    {
     "data": {
      "text/plain": [
       "<tf.Tensor 'stack_1:0' shape=(16, ?, 56) dtype=float32>"
      ]
     },
     "execution_count": 19,
     "metadata": {},
     "output_type": "execute_result"
    }
   ],
   "source": [
    "tf.stack(predicted_probas)"
   ]
  },
  {
   "cell_type": "code",
   "execution_count": 20,
   "metadata": {},
   "outputs": [
    {
     "data": {
      "text/plain": [
       "<tf.Tensor 'transpose_1:0' shape=(?, 16, 56) dtype=float32>"
      ]
     },
     "execution_count": 20,
     "metadata": {},
     "output_type": "execute_result"
    }
   ],
   "source": [
    "tf.transpose(tf.stack(predicted_probas), [1, 0, 2])"
   ]
  },
  {
   "cell_type": "code",
   "execution_count": 21,
   "metadata": {
    "collapsed": true
   },
   "outputs": [],
   "source": [
    "predicted_probas = tf.transpose(tf.stack(predicted_probas), [1, 0, 2])"
   ]
  },
  {
   "cell_type": "code",
   "execution_count": 22,
   "metadata": {},
   "outputs": [
    {
     "data": {
      "text/plain": [
       "<tf.Tensor 'strided_slice_69:0' shape=(?, 15, 56) dtype=float32>"
      ]
     },
     "execution_count": 22,
     "metadata": {},
     "output_type": "execute_result"
    }
   ],
   "source": [
    "# next to last token prediction is not needed\n",
    "predicted_probas[:, :-1, :]"
   ]
  },
  {
   "cell_type": "code",
   "execution_count": 23,
   "metadata": {
    "collapsed": true
   },
   "outputs": [],
   "source": [
    "predicted_probas = predicted_probas[:, :-1, :]"
   ]
  },
  {
   "cell_type": "code",
   "execution_count": 24,
   "metadata": {},
   "outputs": [
    {
     "data": {
      "text/plain": [
       "64"
      ]
     },
     "execution_count": 24,
     "metadata": {},
     "output_type": "execute_result"
    }
   ],
   "source": [
    "rnn_num_units"
   ]
  },
  {
   "cell_type": "code",
   "execution_count": 25,
   "metadata": {},
   "outputs": [
    {
     "data": {
      "text/plain": [
       "<tf.Tensor 'strided_slice_70:0' shape=(?, 15, 56) dtype=float32>"
      ]
     },
     "execution_count": 25,
     "metadata": {},
     "output_type": "execute_result"
    }
   ],
   "source": [
    "predicted_probas"
   ]
  },
  {
   "cell_type": "code",
   "execution_count": 26,
   "metadata": {},
   "outputs": [
    {
     "data": {
      "text/plain": [
       "<tf.Tensor 'dense_1_31/Tanh:0' shape=(?, 64) dtype=float32>"
      ]
     },
     "execution_count": 26,
     "metadata": {},
     "output_type": "execute_result"
    }
   ],
   "source": [
    "h_prev"
   ]
  },
  {
   "cell_type": "markdown",
   "metadata": {},
   "source": [
    "# RNN: loss and gradients\n",
    "\n",
    "Let's gather a matrix of predictions for $P(x_{next}|h)$ and the corresponding correct answers.\n",
    "\n",
    "We will flatten our matrices to shape [None, n_tokens] to make it easier.\n",
    "\n",
    "Our network can then be trained by minimizing crossentropy between predicted probabilities and those answers."
   ]
  },
  {
   "cell_type": "code",
   "execution_count": 27,
   "metadata": {},
   "outputs": [
    {
     "data": {
      "text/plain": [
       "56"
      ]
     },
     "execution_count": 27,
     "metadata": {},
     "output_type": "execute_result"
    }
   ],
   "source": [
    "n_tokens"
   ]
  },
  {
   "cell_type": "code",
   "execution_count": 28,
   "metadata": {},
   "outputs": [
    {
     "data": {
      "text/plain": [
       "<tf.Tensor 'strided_slice_70:0' shape=(?, 15, 56) dtype=float32>"
      ]
     },
     "execution_count": 28,
     "metadata": {},
     "output_type": "execute_result"
    }
   ],
   "source": [
    "predicted_probas"
   ]
  },
  {
   "cell_type": "code",
   "execution_count": 29,
   "metadata": {},
   "outputs": [
    {
     "data": {
      "text/plain": [
       "<tf.Tensor 'Reshape_32:0' shape=(?, 56) dtype=float32>"
      ]
     },
     "execution_count": 29,
     "metadata": {},
     "output_type": "execute_result"
    }
   ],
   "source": [
    "tf.reshape(predicted_probas, [-1, n_tokens])"
   ]
  },
  {
   "cell_type": "code",
   "execution_count": 30,
   "metadata": {},
   "outputs": [
    {
     "data": {
      "text/plain": [
       "<tf.Tensor 'Reshape_33:0' shape=(?,) dtype=int32>"
      ]
     },
     "execution_count": 30,
     "metadata": {},
     "output_type": "execute_result"
    }
   ],
   "source": [
    "tf.reshape(input_sequence[:, 1:], [-1])"
   ]
  },
  {
   "cell_type": "code",
   "execution_count": 31,
   "metadata": {
    "ExecuteTime": {
     "end_time": "2018-08-13T20:26:44.354310Z",
     "start_time": "2018-08-13T20:26:44.344648Z"
    },
    "collapsed": true
   },
   "outputs": [],
   "source": [
    "# flatten predictions to [batch*time, n_tokens]\n",
    "predictions_matrix = tf.reshape(predicted_probas, [-1, n_tokens])\n",
    "\n",
    "# flatten answers (next tokens) and one-hot encode them\n",
    "answers_matrix = tf.one_hot(tf.reshape(input_sequence[:, 1:], [-1]), n_tokens)"
   ]
  },
  {
   "cell_type": "code",
   "execution_count": 32,
   "metadata": {},
   "outputs": [
    {
     "data": {
      "text/plain": [
       "<tf.Tensor 'Reshape_34:0' shape=(?, 56) dtype=float32>"
      ]
     },
     "execution_count": 32,
     "metadata": {},
     "output_type": "execute_result"
    }
   ],
   "source": [
    "predictions_matrix"
   ]
  },
  {
   "cell_type": "code",
   "execution_count": 23,
   "metadata": {},
   "outputs": [
    {
     "data": {
      "text/plain": [
       "<tf.Tensor 'one_hot:0' shape=(?, 56) dtype=float32>"
      ]
     },
     "execution_count": 23,
     "metadata": {},
     "output_type": "execute_result"
    }
   ],
   "source": [
    "answers_matrix"
   ]
  },
  {
   "cell_type": "markdown",
   "metadata": {},
   "source": [
    "Usually it's a good idea to ignore gradients of loss for padding token predictions.\n",
    "\n",
    "Because we don't care about further prediction after the pad_token is predicted for the first time, so it doesn't make sense to punish our network after the pad_token is predicted.\n",
    "\n",
    "For simplicity you can ignore this comment, it's up to you."
   ]
  },
  {
   "cell_type": "code",
   "execution_count": 26,
   "metadata": {
    "ExecuteTime": {
     "end_time": "2018-08-13T20:26:45.076642Z",
     "start_time": "2018-08-13T20:26:44.355594Z"
    },
    "collapsed": true
   },
   "outputs": [],
   "source": [
    "# Define the loss as categorical cross-entropy (e.g. from keras.losses).\n",
    "# Mind that predictions are probabilities and NOT logits!\n",
    "# Remember to apply tf.reduce_mean to get a scalar loss!\n",
    "loss = - 1 * tf.reduce_mean(answers_matrix * tf.log(predictions_matrix)) ### YOUR CODE HERE\n",
    "\n",
    "optimize = tf.train.AdamOptimizer().minimize(loss)"
   ]
  },
  {
   "cell_type": "markdown",
   "metadata": {},
   "source": [
    "# RNN: training"
   ]
  },
  {
   "cell_type": "code",
   "execution_count": 48,
   "metadata": {
    "scrolled": true
   },
   "outputs": [
    {
     "data": {
      "text/plain": [
       "(32, 16)"
      ]
     },
     "execution_count": 48,
     "metadata": {},
     "output_type": "execute_result"
    }
   ],
   "source": [
    "batch.shape"
   ]
  },
  {
   "cell_type": "code",
   "execution_count": 49,
   "metadata": {},
   "outputs": [
    {
     "data": {
      "text/plain": [
       "array([[49, 32, 27, 12, 27, 48, 48, 48, 48, 48, 48, 48, 48, 48, 48, 48],\n",
       "       [49, 21, 40, 24, 24, 40, 27, 48, 48, 48, 48, 48, 48, 48, 48, 48],\n",
       "       [49, 30, 52, 33,  9, 48, 48, 48, 48, 48, 48, 48, 48, 48, 48, 48]], dtype=int32)"
      ]
     },
     "execution_count": 49,
     "metadata": {},
     "output_type": "execute_result"
    }
   ],
   "source": [
    "batch[:3]"
   ]
  },
  {
   "cell_type": "code",
   "execution_count": 28,
   "metadata": {
    "ExecuteTime": {
     "end_time": "2018-08-13T20:26:55.322187Z",
     "start_time": "2018-08-13T20:26:45.078296Z"
    }
   },
   "outputs": [
    {
     "data": {
      "image/png": "[encoded data removed]",
      "text/plain": [
       "<matplotlib.figure.Figure at 0x7f7468728ef0>"
      ]
     },
     "metadata": {},
     "output_type": "display_data"
    }
   ],
   "source": [
    "from IPython.display import clear_output\n",
    "from random import sample\n",
    "\n",
    "s.run(tf.global_variables_initializer())\n",
    "\n",
    "batch_size = 32\n",
    "history = []\n",
    "\n",
    "for i in range(1000):\n",
    "    batch = to_matrix(sample(names, batch_size), max_len=MAX_LENGTH)\n",
    "    loss_i, _ = s.run([loss, optimize], {input_sequence: batch})\n",
    "    \n",
    "    history.append(loss_i)\n",
    "    \n",
    "    if (i + 1) % 100 == 0:\n",
    "        clear_output(True)\n",
    "        plt.plot(history, label='loss')\n",
    "        plt.legend()\n",
    "        plt.show()\n",
    "\n",
    "assert np.mean(history[:10]) > np.mean(history[-10:]), \"RNN didn't converge\""
   ]
  },
  {
   "cell_type": "markdown",
   "metadata": {},
   "source": [
    "# RNN: sampling\n",
    "Once we've trained our network a bit, let's get to actually generating stuff. All we need is the `rnn_one_step` function you have written above."
   ]
  },
  {
   "cell_type": "code",
   "execution_count": 50,
   "metadata": {
    "ExecuteTime": {
     "end_time": "2018-08-13T20:26:55.341196Z",
     "start_time": "2018-08-13T20:26:55.323787Z"
    },
    "collapsed": true
   },
   "outputs": [],
   "source": [
    "x_t = tf.placeholder(tf.int32, (1,))\n",
    "h_t = tf.Variable(np.zeros([1, rnn_num_units], np.float32))  # we will update hidden state in this variable\n",
    "\n",
    "# For sampling we need to define `rnn_one_step` tensors only once in our graph.\n",
    "# We reuse all parameters thanks to functional API usage.\n",
    "# Then we can feed appropriate tensor values using feed_dict in a loop.\n",
    "# Note how different it is from training stage, where we had to unroll the whole sequence for backprop.\n",
    "next_probs, next_h = rnn_one_step(x_t, h_t)"
   ]
  },
  {
   "cell_type": "code",
   "execution_count": null,
   "metadata": {
    "collapsed": true
   },
   "outputs": [],
   "source": [
    "# Recall: this is training for comparison\n",
    "\n",
    "input_sequence = tf.placeholder(tf.int32, (None, MAX_LENGTH))  # batch of token ids\n",
    "batch_size = tf.shape(input_sequence)[0]\n",
    "\n",
    "predicted_probas = []\n",
    "h_prev = tf.zeros([batch_size, rnn_num_units])  # initial hidden state\n",
    "\n",
    "# unroll the whole sequence for backprop\n",
    "for t in range(MAX_LENGTH):\n",
    "    x_t = input_sequence[:, t]  # column t\n",
    "    probas_next, h_next = rnn_one_step(x_t, h_prev)\n",
    "    \n",
    "    h_prev = h_next\n",
    "    predicted_probas.append(probas_next)\n",
    "    \n",
    "# combine predicted_probas into [batch, time, n_tokens] tensor\n",
    "predicted_probas = tf.transpose(tf.stack(predicted_probas), [1, 0, 2])\n",
    "\n",
    "# next to last token prediction is not needed\n",
    "predicted_probas = predicted_probas[:, :-1, :]"
   ]
  },
  {
   "cell_type": "code",
   "execution_count": 51,
   "metadata": {
    "ExecuteTime": {
     "end_time": "2018-08-13T20:26:55.346422Z",
     "start_time": "2018-08-13T20:26:55.342659Z"
    },
    "collapsed": true
   },
   "outputs": [],
   "source": [
    "def generate_sample(seed_phrase=start_token, max_length=MAX_LENGTH):\n",
    "    '''\n",
    "    This function generates text given a `seed_phrase` as a seed.\n",
    "    Remember to include start_token in seed phrase!\n",
    "    Parameter `max_length` is used to set the number of characters in prediction.\n",
    "    '''\n",
    "    x_sequence = [token_to_id[token] for token in seed_phrase]\n",
    "    s.run(tf.assign(h_t, h_t.initial_value))\n",
    "    \n",
    "    # feed the seed phrase, if any\n",
    "    for ix in x_sequence[:-1]:\n",
    "         s.run(tf.assign(h_t, next_h), {x_t: [ix]})\n",
    "    \n",
    "    # start generating\n",
    "    for _ in range(max_length-len(seed_phrase)):\n",
    "        x_probs,_ = s.run([next_probs, tf.assign(h_t, next_h)], {x_t: [x_sequence[-1]]})\n",
    "        x_sequence.append(np.random.choice(n_tokens, p=x_probs[0]))\n",
    "        \n",
    "    return ''.join([tokens[ix] for ix in x_sequence if tokens[ix] != pad_token])"
   ]
  },
  {
   "cell_type": "code",
   "execution_count": 52,
   "metadata": {
    "ExecuteTime": {
     "end_time": "2018-08-13T20:26:58.458115Z",
     "start_time": "2018-08-13T20:26:55.347900Z"
    },
    "scrolled": true
   },
   "outputs": [
    {
     "name": "stdout",
     "output_type": "stream",
     "text": [
      " Launcte\n",
      " Rhranan\n",
      " Kakti\n",
      " Tiaxe\n",
      " Llellest\n",
      " Ne\n",
      " Arsayz\n",
      " Scyene\n",
      " Cagitt\n",
      " Nhibtela\n"
     ]
    }
   ],
   "source": [
    "# without prefix\n",
    "for _ in range(10):\n",
    "    print(generate_sample())"
   ]
  },
  {
   "cell_type": "code",
   "execution_count": 58,
   "metadata": {
    "ExecuteTime": {
     "end_time": "2018-08-13T20:27:01.986726Z",
     "start_time": "2018-08-13T20:26:58.459810Z"
    }
   },
   "outputs": [
    {
     "name": "stdout",
     "output_type": "stream",
     "text": [
      " Antoih\n",
      " Antoie\n",
      " Antoinie\n",
      " Antoike\n",
      " Antoi\n",
      " Antoicerl\n",
      " Antoide\n",
      " Antoi\n",
      " Antoino\n",
      " Antoia\n"
     ]
    }
   ],
   "source": [
    "# with prefix conditioning\n",
    "for _ in range(10):\n",
    "    print(generate_sample(' Antoi'))"
   ]
  },
  {
   "cell_type": "code",
   "execution_count": 57,
   "metadata": {},
   "outputs": [
    {
     "data": {
      "text/plain": [
       "[' Abagael',\n",
       " ' Abagail',\n",
       " ' Abbe',\n",
       " ' Abbey',\n",
       " ' Abbi',\n",
       " ' Abbie',\n",
       " ' Abby',\n",
       " ' Abigael',\n",
       " ' Abigail',\n",
       " ' Abigale',\n",
       " ' Abra',\n",
       " ' Acacia',\n",
       " ' Ada',\n",
       " ' Adah',\n",
       " ' Adaline',\n",
       " ' Adara',\n",
       " ' Addie',\n",
       " ' Addis',\n",
       " ' Adel',\n",
       " ' Adela',\n",
       " ' Adelaide',\n",
       " ' Adele',\n",
       " ' Adelice',\n",
       " ' Adelina',\n",
       " ' Adelind',\n",
       " ' Adeline',\n",
       " ' Adella',\n",
       " ' Adelle',\n",
       " ' Adena',\n",
       " ' Adey',\n",
       " ' Adi',\n",
       " ' Adiana',\n",
       " ' Adina',\n",
       " ' Adora',\n",
       " ' Adore',\n",
       " ' Adoree',\n",
       " ' Adorne',\n",
       " ' Adrea',\n",
       " ' Adria',\n",
       " ' Adriaens',\n",
       " ' Adrian',\n",
       " ' Adriana',\n",
       " ' Adriane',\n",
       " ' Adrianna',\n",
       " ' Adrianne',\n",
       " ' Adrien',\n",
       " ' Adriena',\n",
       " ' Adrienne',\n",
       " ' Aeriel',\n",
       " ' Aeriela',\n",
       " ' Aeriell',\n",
       " ' Ag',\n",
       " ' Agace',\n",
       " ' Agata',\n",
       " ' Agatha',\n",
       " ' Agathe',\n",
       " ' Aggi',\n",
       " ' Aggie',\n",
       " ' Aggy',\n",
       " ' Agna',\n",
       " ' Agnella',\n",
       " ' Agnes',\n",
       " ' Agnese',\n",
       " ' Agnesse',\n",
       " ' Agneta',\n",
       " ' Agnola',\n",
       " ' Agretha',\n",
       " ' Aida',\n",
       " ' Aidan',\n",
       " ' Aigneis',\n",
       " ' Aila',\n",
       " ' Aile',\n",
       " ' Ailee',\n",
       " ' Aileen',\n",
       " ' Ailene',\n",
       " ' Ailey',\n",
       " ' Aili',\n",
       " ' Ailina',\n",
       " ' Ailyn',\n",
       " ' Aime',\n",
       " ' Aimee',\n",
       " ' Aimil',\n",
       " ' Aina',\n",
       " ' Aindrea',\n",
       " ' Ainslee',\n",
       " ' Ainsley',\n",
       " ' Ainslie',\n",
       " ' Ajay',\n",
       " ' Alaine',\n",
       " ' Alameda',\n",
       " ' Alana',\n",
       " ' Alanah',\n",
       " ' Alane',\n",
       " ' Alanna',\n",
       " ' Alayne',\n",
       " ' Alberta',\n",
       " ' Albertina',\n",
       " ' Albertine',\n",
       " ' Albina',\n",
       " ' Alecia',\n",
       " ' Aleda',\n",
       " ' Aleece',\n",
       " ' Aleecia',\n",
       " ' Aleen',\n",
       " ' Alejandra',\n",
       " ' Alejandrina',\n",
       " ' Alena',\n",
       " ' Alene',\n",
       " ' Alessandra',\n",
       " ' Aleta',\n",
       " ' Alethea',\n",
       " ' Alex',\n",
       " ' Alexa',\n",
       " ' Alexandra',\n",
       " ' Alexandrina',\n",
       " ' Alexi',\n",
       " ' Alexia',\n",
       " ' Alexina',\n",
       " ' Alexine',\n",
       " ' Alexis',\n",
       " ' Alfie',\n",
       " ' Alfreda',\n",
       " ' Ali',\n",
       " ' Alia',\n",
       " ' Alica',\n",
       " ' Alice',\n",
       " ' Alicea',\n",
       " ' Alicia',\n",
       " ' Alida',\n",
       " ' Alidia',\n",
       " ' Alina',\n",
       " ' Aline',\n",
       " ' Alis',\n",
       " ' Alisa',\n",
       " ' Alisha',\n",
       " ' Alison',\n",
       " ' Alissa',\n",
       " ' Alisun',\n",
       " ' Alix',\n",
       " ' Aliza',\n",
       " ' Alla',\n",
       " ' Alleen',\n",
       " ' Allegra',\n",
       " ' Allene',\n",
       " ' Alli',\n",
       " ' Allianora',\n",
       " ' Allie',\n",
       " ' Allina',\n",
       " ' Allis',\n",
       " ' Allison',\n",
       " ' Allissa',\n",
       " ' Allsun',\n",
       " ' Ally',\n",
       " ' Allyce',\n",
       " ' Allyn',\n",
       " ' Allys',\n",
       " ' Allyson',\n",
       " ' Alma',\n",
       " ' Almeda',\n",
       " ' Almeria',\n",
       " ' Almeta',\n",
       " ' Almira',\n",
       " ' Almire',\n",
       " ' Aloise',\n",
       " ' Aloisia',\n",
       " ' Aloysia',\n",
       " ' Alpa',\n",
       " ' Alta',\n",
       " ' Althea',\n",
       " ' Alvera',\n",
       " ' Alvina',\n",
       " ' Alvinia',\n",
       " ' Alvira',\n",
       " ' Alyce',\n",
       " ' Alyda',\n",
       " ' Alys',\n",
       " ' Alysa',\n",
       " ' Alyse',\n",
       " ' Alysia',\n",
       " ' Alyson',\n",
       " ' Alyss',\n",
       " ' Alyssa',\n",
       " ' Amabel',\n",
       " ' Amabelle',\n",
       " ' Amalea',\n",
       " ' Amalee',\n",
       " ' Amaleta',\n",
       " ' Amalia',\n",
       " ' Amalie',\n",
       " ' Amalita',\n",
       " ' Amalle',\n",
       " ' Amanda',\n",
       " ' Amandi',\n",
       " ' Amandie',\n",
       " ' Amandy',\n",
       " ' Amara',\n",
       " ' Amargo',\n",
       " ' Amata',\n",
       " ' Amber',\n",
       " ' Amberly',\n",
       " ' Ambrosia',\n",
       " ' Ambur',\n",
       " ' Ame',\n",
       " ' Amelia',\n",
       " ' Amelie',\n",
       " ' Amelina',\n",
       " ' Ameline',\n",
       " ' Amelita',\n",
       " ' Ami',\n",
       " ' Amie',\n",
       " ' Amity',\n",
       " ' Ammamaria',\n",
       " ' Amy',\n",
       " ' Ana',\n",
       " ' Anabel',\n",
       " ' Anabella',\n",
       " ' Anabelle',\n",
       " ' Anais',\n",
       " ' Analiese',\n",
       " ' Analise',\n",
       " ' Anallese',\n",
       " ' Anallise',\n",
       " ' Anastasia',\n",
       " ' Anastasie',\n",
       " ' Anastassia',\n",
       " ' Anatola',\n",
       " ' Andee',\n",
       " ' Andi',\n",
       " ' Andie',\n",
       " ' Andra',\n",
       " ' Andrea',\n",
       " ' Andreana',\n",
       " ' Andree',\n",
       " ' Andrei',\n",
       " ' Andria',\n",
       " ' Andriana',\n",
       " ' Andriette',\n",
       " ' Andromache',\n",
       " ' Andromeda',\n",
       " ' Andy',\n",
       " ' Anestassia',\n",
       " ' Anet',\n",
       " ' Anett',\n",
       " ' Anetta',\n",
       " ' Anette',\n",
       " ' Ange',\n",
       " ' Angel',\n",
       " ' Angela',\n",
       " ' Angele',\n",
       " ' Angelia',\n",
       " ' Angelica',\n",
       " ' Angelika',\n",
       " ' Angelina',\n",
       " ' Angeline',\n",
       " ' Angelique',\n",
       " ' Angelita',\n",
       " ' Angelle',\n",
       " ' Angie',\n",
       " ' Angil',\n",
       " ' Angy',\n",
       " ' Ania',\n",
       " ' Anica',\n",
       " ' Anissa',\n",
       " ' Anita',\n",
       " ' Anitra',\n",
       " ' Anja',\n",
       " ' Anjanette',\n",
       " ' Anjela',\n",
       " ' Ann',\n",
       " ' Ann-Mari',\n",
       " ' Ann-Marie',\n",
       " ' Anna',\n",
       " ' Anna-Diana',\n",
       " ' Anna-Diane',\n",
       " ' Anna-Maria',\n",
       " ' Annabal',\n",
       " ' Annabel',\n",
       " ' Annabela',\n",
       " ' Annabell',\n",
       " ' Annabella',\n",
       " ' Annabelle',\n",
       " ' Annadiana',\n",
       " ' Annadiane',\n",
       " ' Annalee',\n",
       " ' Annalena',\n",
       " ' Annaliese',\n",
       " ' Annalisa',\n",
       " ' Annalise',\n",
       " ' Annalyse',\n",
       " ' Annamari',\n",
       " ' Annamaria',\n",
       " ' Annamarie',\n",
       " ' Anne',\n",
       " ' Anne-Corinne',\n",
       " ' Anne-Mar',\n",
       " ' Anne-Marie',\n",
       " ' Annecorinne',\n",
       " ' Anneliese',\n",
       " ' Annelise',\n",
       " ' Annemarie',\n",
       " ' Annetta',\n",
       " ' Annette',\n",
       " ' Anni',\n",
       " ' Annice',\n",
       " ' Annie',\n",
       " ' Annissa',\n",
       " ' Annmaria',\n",
       " ' Annmarie',\n",
       " ' Annnora',\n",
       " ' Annora',\n",
       " ' Anny',\n",
       " ' Anselma',\n",
       " ' Ansley',\n",
       " ' Anstice',\n",
       " ' Anthe',\n",
       " ' Anthea',\n",
       " ' Anthia',\n",
       " ' Antoinette',\n",
       " ' Antonella',\n",
       " ' Antonetta',\n",
       " ' Antonia',\n",
       " ' Antonie',\n",
       " ' Antonietta',\n",
       " ' Antonina',\n",
       " ' Anya',\n",
       " ' Aphrodite',\n",
       " ' Appolonia',\n",
       " ' April',\n",
       " ' Aprilette',\n",
       " ' Ara',\n",
       " ' Arabel',\n",
       " ' Arabela',\n",
       " ' Arabele',\n",
       " ' Arabella',\n",
       " ' Arabelle',\n",
       " ' Arda',\n",
       " ' Ardath',\n",
       " ' Ardeen',\n",
       " ' Ardelia',\n",
       " ' Ardelis',\n",
       " ' Ardella',\n",
       " ' Ardelle',\n",
       " ' Arden',\n",
       " ' Ardene',\n",
       " ' Ardenia',\n",
       " ' Ardine',\n",
       " ' Ardis',\n",
       " ' Ardith',\n",
       " ' Ardra',\n",
       " ' Ardyce',\n",
       " ' Ardys',\n",
       " ' Ardyth',\n",
       " ' Aretha',\n",
       " ' Ariadne',\n",
       " ' Ariana',\n",
       " ' Arianne',\n",
       " ' Aridatha',\n",
       " ' Ariel',\n",
       " ' Ariela',\n",
       " ' Ariella',\n",
       " ' Arielle',\n",
       " ' Arlana',\n",
       " ' Arlee',\n",
       " ' Arleen',\n",
       " ' Arlen',\n",
       " ' Arlena',\n",
       " ' Arlene',\n",
       " ' Arleta',\n",
       " ' Arlette',\n",
       " ' Arleyne',\n",
       " ' Arlie',\n",
       " ' Arliene',\n",
       " ' Arlina',\n",
       " ' Arlinda',\n",
       " ' Arline',\n",
       " ' Arly',\n",
       " ' Arlyn',\n",
       " ' Arlyne',\n",
       " ' Aryn',\n",
       " ' Ashely',\n",
       " ' Ashlee',\n",
       " ' Ashleigh',\n",
       " ' Ashlen',\n",
       " ' Ashley',\n",
       " ' Ashli',\n",
       " ' Ashlie',\n",
       " ' Ashly',\n",
       " ' Asia',\n",
       " ' Astra',\n",
       " ' Astrid',\n",
       " ' Astrix',\n",
       " ' Atalanta',\n",
       " ' Athena',\n",
       " ' Athene',\n",
       " ' Atlanta',\n",
       " ' Atlante',\n",
       " ' Auberta',\n",
       " ' Aubine',\n",
       " ' Aubree',\n",
       " ' Aubrette',\n",
       " ' Aubrey',\n",
       " ' Aubrie',\n",
       " ' Aubry',\n",
       " ' Audi',\n",
       " ' Audie',\n",
       " ' Audra',\n",
       " ' Audre',\n",
       " ' Audrey',\n",
       " ' Audrie',\n",
       " ' Audry',\n",
       " ' Audrye',\n",
       " ' Audy',\n",
       " ' Augusta',\n",
       " ' Auguste',\n",
       " ' Augustina',\n",
       " ' Augustine',\n",
       " ' Aura',\n",
       " ' Aurea',\n",
       " ' Aurel',\n",
       " ' Aurelea',\n",
       " ' Aurelia',\n",
       " ' Aurelie',\n",
       " ' Auria',\n",
       " ' Aurie',\n",
       " ' Aurilia',\n",
       " ' Aurlie',\n",
       " ' Auroora',\n",
       " ' Aurora',\n",
       " ' Aurore',\n",
       " ' Austin',\n",
       " ' Austina',\n",
       " ' Austine',\n",
       " ' Ava',\n",
       " ' Aveline',\n",
       " ' Averil',\n",
       " ' Averyl',\n",
       " ' Avie',\n",
       " ' Avis',\n",
       " ' Aviva',\n",
       " ' Avivah',\n",
       " ' Avril',\n",
       " ' Avrit',\n",
       " ' Ayn',\n",
       " ' Bab',\n",
       " ' Babara',\n",
       " ' Babette',\n",
       " ' Babita',\n",
       " ' Babs',\n",
       " ' Bambi',\n",
       " ' Bambie',\n",
       " ' Bamby',\n",
       " ' Barb',\n",
       " ' Barbabra',\n",
       " ' Barbara',\n",
       " ' Barbara-Anne',\n",
       " ' Barbaraanne',\n",
       " ' Barbe',\n",
       " ' Barbee',\n",
       " ' Barbette',\n",
       " ' Barbey',\n",
       " ' Barbi',\n",
       " ' Barbie',\n",
       " ' Barbra',\n",
       " ' Barby',\n",
       " ' Bari',\n",
       " ' Barrie',\n",
       " ' Barry',\n",
       " ' Basia',\n",
       " ' Bathsheba',\n",
       " ' Batsheva',\n",
       " ' Bea',\n",
       " ' Beatrice',\n",
       " ' Beatrisa',\n",
       " ' Beatrix',\n",
       " ' Beatriz',\n",
       " ' Beau',\n",
       " ' Bebe',\n",
       " ' Becca',\n",
       " ' Becka',\n",
       " ' Becki',\n",
       " ' Beckie',\n",
       " ' Becky',\n",
       " ' Bee',\n",
       " ' Beilul',\n",
       " ' Beitris',\n",
       " ' Bekki',\n",
       " ' Bel',\n",
       " ' Belia',\n",
       " ' Belicia',\n",
       " ' Belinda',\n",
       " ' Belita',\n",
       " ' Bell',\n",
       " ' Bella',\n",
       " ' Bellamy',\n",
       " ' Bellanca',\n",
       " ' Belle',\n",
       " ' Bellina',\n",
       " ' Belva',\n",
       " ' Belvia',\n",
       " ' Bendite',\n",
       " ' Benedetta',\n",
       " ' Benedicta',\n",
       " ' Benedikta',\n",
       " ' Benetta',\n",
       " ' Benita',\n",
       " ' Benni',\n",
       " ' Bennie',\n",
       " ' Benny',\n",
       " ' Benoite',\n",
       " ' Berenice',\n",
       " ' Beret',\n",
       " ' Berget',\n",
       " ' Berna',\n",
       " ' Bernadene',\n",
       " ' Bernadette',\n",
       " ' Bernadina',\n",
       " ' Bernadine',\n",
       " ' Bernardina',\n",
       " ' Bernardine',\n",
       " ' Bernelle',\n",
       " ' Bernete',\n",
       " ' Bernetta',\n",
       " ' Bernette',\n",
       " ' Berni',\n",
       " ' Bernice',\n",
       " ' Bernie',\n",
       " ' Bernita',\n",
       " ' Berny',\n",
       " ' Berri',\n",
       " ' Berrie',\n",
       " ' Berry',\n",
       " ' Bert',\n",
       " ' Berta',\n",
       " ' Berte',\n",
       " ' Bertha',\n",
       " ' Berthe',\n",
       " ' Berti',\n",
       " ' Bertie',\n",
       " ' Bertina',\n",
       " ' Bertine',\n",
       " ' Berty',\n",
       " ' Beryl',\n",
       " ' Beryle',\n",
       " ' Bess',\n",
       " ' Bessie',\n",
       " ' Bessy',\n",
       " ' Beth',\n",
       " ' Bethanne',\n",
       " ' Bethany',\n",
       " ' Bethena',\n",
       " ' Bethina',\n",
       " ' Betsey',\n",
       " ' Betsy',\n",
       " ' Betta',\n",
       " ' Bette',\n",
       " ' Bette-Ann',\n",
       " ' Betteann',\n",
       " ' Betteanne',\n",
       " ' Betti',\n",
       " ' Bettie',\n",
       " ' Bettina',\n",
       " ' Bettine',\n",
       " ' Betty',\n",
       " ' Bettye',\n",
       " ' Beulah',\n",
       " ' Bev',\n",
       " ' Beverie',\n",
       " ' Beverlee',\n",
       " ' Beverlie',\n",
       " ' Beverly',\n",
       " ' Bevvy',\n",
       " ' Bianca',\n",
       " ' Bianka',\n",
       " ' Biddy',\n",
       " ' Bidget',\n",
       " ' Bill',\n",
       " ' Billi',\n",
       " ' Billie',\n",
       " ' Billy',\n",
       " ' Binni',\n",
       " ' Binnie',\n",
       " ' Binny',\n",
       " ' Bird',\n",
       " ' Birdie',\n",
       " ' Birgit',\n",
       " ' Birgitta',\n",
       " ' Blair',\n",
       " ' Blaire',\n",
       " ' Blake',\n",
       " ' Blakelee',\n",
       " ' Blakeley',\n",
       " ' Blanca',\n",
       " ' Blanch',\n",
       " ' Blancha',\n",
       " ' Blanche',\n",
       " ' Blinni',\n",
       " ' Blinnie',\n",
       " ' Blinny',\n",
       " ' Bliss',\n",
       " ' Blisse',\n",
       " ' Blithe',\n",
       " ' Blondell',\n",
       " ' Blondelle',\n",
       " ' Blondie',\n",
       " ' Blondy',\n",
       " ' Blythe',\n",
       " ' Bo',\n",
       " ' Bobbette',\n",
       " ' Bobbi',\n",
       " ' Bobbie',\n",
       " ' Bobby',\n",
       " ' Bobette',\n",
       " ' Bobina',\n",
       " ' Bobine',\n",
       " ' Bobinette',\n",
       " ' Bonita',\n",
       " ' Bonnee',\n",
       " ' Bonni',\n",
       " ' Bonnie',\n",
       " ' Bonny',\n",
       " ' Brana',\n",
       " ' Brandais',\n",
       " ' Brande',\n",
       " ' Brandea',\n",
       " ' Brandi',\n",
       " ' Brandice',\n",
       " ' Brandie',\n",
       " ' Brandise',\n",
       " ' Brandy',\n",
       " ' Brea',\n",
       " ' Breanne',\n",
       " ' Brear',\n",
       " ' Bree',\n",
       " ' Breena',\n",
       " ' Bren',\n",
       " ' Brena',\n",
       " ' Brenda',\n",
       " ' Brenn',\n",
       " ' Brenna',\n",
       " ' Brett',\n",
       " ' Bria',\n",
       " ' Briana',\n",
       " ' Brianna',\n",
       " ' Brianne',\n",
       " ' Bride',\n",
       " ' Bridget',\n",
       " ' Bridgett',\n",
       " ' Bridgette',\n",
       " ' Bridie',\n",
       " ' Brier',\n",
       " ' Brietta',\n",
       " ' Brigid',\n",
       " ' Brigida',\n",
       " ' Brigit',\n",
       " ' Brigitta',\n",
       " ' Brigitte',\n",
       " ' Brina',\n",
       " ' Briney',\n",
       " ' Briny',\n",
       " ' Brit',\n",
       " ' Brita',\n",
       " ' Britaney',\n",
       " ' Britani',\n",
       " ' Briteny',\n",
       " ' Britney',\n",
       " ' Britni',\n",
       " ' Britt',\n",
       " ' Britta',\n",
       " ' Brittan',\n",
       " ' Brittany',\n",
       " ' Britte',\n",
       " ' Brittney',\n",
       " ' Brook',\n",
       " ' Brooke',\n",
       " ' Brooks',\n",
       " ' Brunella',\n",
       " ' Brunhilda',\n",
       " ' Brunhilde',\n",
       " ' Bryana',\n",
       " ' Bryn',\n",
       " ' Bryna',\n",
       " ' Brynn',\n",
       " ' Brynna',\n",
       " ' Brynne',\n",
       " ' Buffy',\n",
       " ' Bunni',\n",
       " ' Bunnie',\n",
       " ' Bunny',\n",
       " ' Burta',\n",
       " ' Cabrina',\n",
       " ' Cacilia',\n",
       " ' Cacilie',\n",
       " ' Caitlin',\n",
       " ' Caitrin',\n",
       " ' Cal',\n",
       " ' Calida',\n",
       " ' Calla',\n",
       " ' Calley',\n",
       " ' Calli',\n",
       " ' Callida',\n",
       " ' Callie',\n",
       " ' Cally',\n",
       " ' Calypso',\n",
       " ' Cam',\n",
       " ' Camala',\n",
       " ' Camel',\n",
       " ' Camella',\n",
       " ' Camellia',\n",
       " ' Cameo',\n",
       " ' Cami',\n",
       " ' Camila',\n",
       " ' Camile',\n",
       " ' Camilla',\n",
       " ' Camille',\n",
       " ' Cammi',\n",
       " ' Cammie',\n",
       " ' Cammy',\n",
       " ' Canada',\n",
       " ' Candace',\n",
       " ' Candi',\n",
       " ' Candice',\n",
       " ' Candida',\n",
       " ' Candide',\n",
       " ' Candie',\n",
       " ' Candis',\n",
       " ' Candra',\n",
       " ' Candy',\n",
       " ' Cappella',\n",
       " ' Caprice',\n",
       " ' Cara',\n",
       " ' Caralie',\n",
       " ' Caren',\n",
       " ' Carena',\n",
       " ' Caresa',\n",
       " ' Caressa',\n",
       " ' Caresse',\n",
       " ' Carey',\n",
       " ' Cari',\n",
       " ' Caria',\n",
       " ' Carie',\n",
       " ' Caril',\n",
       " ' Carilyn',\n",
       " ' Carin',\n",
       " ' Carina',\n",
       " ' Carine',\n",
       " ' Cariotta',\n",
       " ' Carissa',\n",
       " ' Carita',\n",
       " ' Caritta',\n",
       " ' Carla',\n",
       " ' Carlee',\n",
       " ' Carleen',\n",
       " ' Carlen',\n",
       " ' Carlena',\n",
       " ' Carlene',\n",
       " ' Carley',\n",
       " ' Carli',\n",
       " ' Carlie',\n",
       " ' Carlin',\n",
       " ' Carlina',\n",
       " ' Carline',\n",
       " ' Carlisle',\n",
       " ' Carlita',\n",
       " ' Carlota',\n",
       " ' Carlotta',\n",
       " ' Carly',\n",
       " ' Carlye',\n",
       " ' Carlyn',\n",
       " ' Carlynn',\n",
       " ' Carlynne',\n",
       " ' Carma',\n",
       " ' Carmel',\n",
       " ' Carmela',\n",
       " ' Carmelia',\n",
       " ' Carmelina',\n",
       " ' Carmelita',\n",
       " ' Carmella',\n",
       " ' Carmelle',\n",
       " ' Carmen',\n",
       " ' Carmina',\n",
       " ' Carmine',\n",
       " ' Carmita',\n",
       " ' Carmon',\n",
       " ' Caro',\n",
       " ' Carol',\n",
       " ' Carol-Jean',\n",
       " ' Carola',\n",
       " ' Carolan',\n",
       " ' Carolann',\n",
       " ' Carole',\n",
       " ' Carolee',\n",
       " ' Caroleen',\n",
       " ' Carolie',\n",
       " ' Carolin',\n",
       " ' Carolina',\n",
       " ' Caroline',\n",
       " ' Caroljean',\n",
       " ' Carolyn',\n",
       " ' Carolyne',\n",
       " ' Carolynn',\n",
       " ' Caron',\n",
       " ' Carree',\n",
       " ' Carri',\n",
       " ' Carrie',\n",
       " ' Carrissa',\n",
       " ' Carrol',\n",
       " ' Carroll',\n",
       " ' Carry',\n",
       " ' Cary',\n",
       " ' Caryl',\n",
       " ' Caryn',\n",
       " ' Casandra',\n",
       " ' Casey',\n",
       " ' Casi',\n",
       " ' Casia',\n",
       " ' Casie',\n",
       " ' Cass',\n",
       " ' Cassandra',\n",
       " ' Cassandre',\n",
       " ' Cassandry',\n",
       " ' Cassaundra',\n",
       " ' Cassey',\n",
       " ' Cassi',\n",
       " ' Cassie',\n",
       " ' Cassondra',\n",
       " ' Cassy',\n",
       " ' Cat',\n",
       " ' Catarina',\n",
       " ' Cate',\n",
       " ' Caterina',\n",
       " ' Catha',\n",
       " ' Catharina',\n",
       " ' Catharine',\n",
       " ' Cathe',\n",
       " ' Cathee',\n",
       " ' Catherin',\n",
       " ' Catherina',\n",
       " ' Catherine',\n",
       " ' Cathi',\n",
       " ' Cathie',\n",
       " ' Cathleen',\n",
       " ' Cathlene',\n",
       " ' Cathrin',\n",
       " ' Cathrine',\n",
       " ' Cathryn',\n",
       " ' Cathy',\n",
       " ' Cathyleen',\n",
       " ' Cati',\n",
       " ' Catie',\n",
       " ' Catina',\n",
       " ' Catlaina',\n",
       " ' Catlee',\n",
       " ' Catlin',\n",
       " ' Catrina',\n",
       " ' Catriona',\n",
       " ' Caty',\n",
       " ' Cayla',\n",
       " ' Cecelia',\n",
       " ' Cecil',\n",
       " ' Cecile',\n",
       " ' Ceciley',\n",
       " ' Cecilia',\n",
       " ' Cecilla',\n",
       " ' Cecily',\n",
       " ' Ceil',\n",
       " ' Cele',\n",
       " ' Celene',\n",
       " ' Celesta',\n",
       " ' Celeste',\n",
       " ' Celestia',\n",
       " ' Celestina',\n",
       " ' Celestine',\n",
       " ' Celestyn',\n",
       " ' Celestyna',\n",
       " ' Celia',\n",
       " ' Celie',\n",
       " ' Celina',\n",
       " ' Celinda',\n",
       " ' Celine',\n",
       " ' Celinka',\n",
       " ' Celisse',\n",
       " ' Celle',\n",
       " ' Cesya',\n",
       " ' Chad',\n",
       " ' Chanda',\n",
       " ' Chandal',\n",
       " ' Chandra',\n",
       " ' Channa',\n",
       " ' Chantal',\n",
       " ' Chantalle',\n",
       " ' Charil',\n",
       " ' Charin',\n",
       " ' Charis',\n",
       " ' Charissa',\n",
       " ' Charisse',\n",
       " ' Charita',\n",
       " ' Charity',\n",
       " ' Charla',\n",
       " ' Charlean',\n",
       " ' Charleen',\n",
       " ' Charlena',\n",
       " ' Charlene',\n",
       " ' Charline',\n",
       " ' Charlot',\n",
       " ' Charlott',\n",
       " ' Charlotta',\n",
       " ' Charlotte',\n",
       " ' Charmain',\n",
       " ' Charmaine',\n",
       " ' Charmane',\n",
       " ' Charmian',\n",
       " ' Charmine',\n",
       " ' Charmion',\n",
       " ' Charo',\n",
       " ' Charyl',\n",
       " ' Chastity',\n",
       " ' Chelsae',\n",
       " ' Chelsea',\n",
       " ' Chelsey',\n",
       " ' Chelsie',\n",
       " ' Chelsy',\n",
       " ' Cher',\n",
       " ' Chere',\n",
       " ' Cherey',\n",
       " ' Cheri',\n",
       " ' Cherianne',\n",
       " ' Cherice',\n",
       " ' Cherida',\n",
       " ' Cherie',\n",
       " ' Cherilyn',\n",
       " ' Cherilynn',\n",
       " ' Cherin',\n",
       " ' Cherise',\n",
       " ' Cherish',\n",
       " ' Cherlyn',\n",
       " ' Cherri',\n",
       " ' Cherrita',\n",
       " ' Cherry',\n",
       " ' Chery',\n",
       " ' Cherye',\n",
       " ' Cheryl',\n",
       " ' Cheslie',\n",
       " ' Chiarra',\n",
       " ' Chickie',\n",
       " ' Chicky',\n",
       " ' Chiquita',\n",
       " ' Chloe',\n",
       " ' Chloette',\n",
       " ' Chloris',\n",
       " ' Chris',\n",
       " ' Chriss',\n",
       " ' Chrissa',\n",
       " ' Chrissie',\n",
       " ' Chrissy',\n",
       " ' Christa',\n",
       " ' Christabel',\n",
       " ' Christabella',\n",
       " ' Christabelle',\n",
       " ' Christal',\n",
       " ' Christalle',\n",
       " ' Christan',\n",
       " ' Christean',\n",
       " ' Christel',\n",
       " ' Christen',\n",
       " ' Christi',\n",
       " ' Christian',\n",
       " ' Christiana',\n",
       " ' Christiane',\n",
       " ' Christie',\n",
       " ' Christin',\n",
       " ' Christina',\n",
       " ' Christine',\n",
       " ' Christy',\n",
       " ' Christyna',\n",
       " ' Chrysa',\n",
       " ' Chrysler',\n",
       " ' Chrystal',\n",
       " ' Chryste',\n",
       " ' Chrystel',\n",
       " ' Ciara',\n",
       " ' Cicely',\n",
       " ' Cicily',\n",
       " ' Ciel',\n",
       " ' Cilka',\n",
       " ' Cinda',\n",
       " ' Cindee',\n",
       " ' Cindelyn',\n",
       " ' Cinderella',\n",
       " ' Cindi',\n",
       " ' Cindie',\n",
       " ' Cindra',\n",
       " ' Cindy',\n",
       " ' Cinnamon',\n",
       " ' Cissie',\n",
       " ' Cissy',\n",
       " ' Clair',\n",
       " ' Claire',\n",
       " ' Clara',\n",
       " ' Clarabelle',\n",
       " ' Clare',\n",
       " ...]"
      ]
     },
     "execution_count": 57,
     "metadata": {},
     "output_type": "execute_result"
    }
   ],
   "source": [
    "names"
   ]
  },
  {
   "cell_type": "markdown",
   "metadata": {},
   "source": [
    "# Submit to Coursera"
   ]
  },
  {
   "cell_type": "code",
   "execution_count": 59,
   "metadata": {
    "ExecuteTime": {
     "end_time": "2018-08-13T20:40:02.004926Z",
     "start_time": "2018-08-13T20:40:02.000821Z"
    },
    "collapsed": true
   },
   "outputs": [],
   "source": [
    "# token expires every 30 min\n",
    "COURSERA_TOKEN = \"kfL3YSNZHCzAiaB4\"\n",
    "COURSERA_EMAIL = \"antoine.murry1992@gmail.com\""
   ]
  },
  {
   "cell_type": "code",
   "execution_count": 60,
   "metadata": {
    "ExecuteTime": {
     "end_time": "2018-08-13T20:40:18.923357Z",
     "start_time": "2018-08-13T20:40:03.549343Z"
    }
   },
   "outputs": [
    {
     "data": {
      "application/vnd.jupyter.widget-view+json": {
       "model_id": "1371cddf86544b94b28e49faf703b140",
       "version_major": 2,
       "version_minor": 0
      },
      "text/plain": [
       "A Jupyter Widget"
      ]
     },
     "metadata": {},
     "output_type": "display_data"
    },
    {
     "name": "stdout",
     "output_type": "stream",
     "text": [
      "\n",
      "Submitted to Coursera platform. See results on assignment page!\n"
     ]
    }
   ],
   "source": [
    "from submit import submit_char_rnn\n",
    "samples = [generate_sample(' Al') for i in tqdm_utils.tqdm_notebook_failsafe(range(25))]\n",
    "submission = (history, samples)\n",
    "submit_char_rnn(submission, COURSERA_EMAIL, COURSERA_TOKEN)"
   ]
  },
  {
   "cell_type": "markdown",
   "metadata": {},
   "source": [
    "# Try it out!\n",
    "\n",
    "__Disclaimer:__ This part of assignment is entirely optional. You won't receive bonus points for it. However, it's a fun thing to do. Please share your results on course forums.\n",
    "\n",
    "You've just implemented a recurrent language model that can be tasked with generating any kind of sequence, so there's plenty of data you can try it on:\n",
    "\n",
    "* Novels/poems/songs of your favorite author\n",
    "* News titles/clickbait titles\n",
    "* Source code of Linux or Tensorflow\n",
    "* Molecules in [smiles](https://en.wikipedia.org/wiki/Simplified_molecular-input_line-entry_system) format\n",
    "* Melody in notes/chords format\n",
    "* IKEA catalog titles\n",
    "* Pokemon names\n",
    "* Cards from Magic, the Gathering / Hearthstone\n",
    "\n",
    "If you're willing to give it a try, here's what you wanna look at:\n",
    "* Current data format is a sequence of lines, so a novel can be formatted as a list of sentences. Alternatively, you can change data preprocessing altogether.\n",
    "* While some datasets are readily available, others can only be scraped from the web. Try `Selenium` or `Scrapy` for that.\n",
    "* Make sure MAX_LENGTH is adjusted for longer datasets. There's also a bonus section about dynamic RNNs at the bottom.\n",
    "* More complex tasks require larger RNN architecture, try more neurons or several layers. It would also require more training iterations.\n",
    "* Long-term dependencies in music, novels or molecules are better handled with LSTM or GRU\n",
    "\n",
    "__Good hunting!__"
   ]
  },
  {
   "cell_type": "markdown",
   "metadata": {
    "collapsed": true
   },
   "source": [
    "# Bonus level: dynamic RNNs\n",
    "\n",
    "Apart from Keras, there's also a friendly TensorFlow API for recurrent neural nets. It's based around the symbolic loop function (aka [tf.scan](https://www.tensorflow.org/api_docs/python/tf/scan)).\n",
    "\n",
    "RNN loop that we implemented for training can be replaced with single TensorFlow instruction: [tf.nn.dynamic_rnn](https://www.tensorflow.org/api_docs/python/tf/nn/dynamic_rnn).\n",
    "This interface allows for dynamic sequence length and comes with some pre-implemented architectures.\n",
    "\n",
    "Take a look at [tf.nn.rnn_cell.BasicRNNCell](https://www.tensorflow.org/api_docs/python/tf/contrib/rnn/BasicRNNCell)."
   ]
  },
  {
   "cell_type": "code",
   "execution_count": 61,
   "metadata": {
    "ExecuteTime": {
     "end_time": "2018-08-13T20:27:12.975354Z",
     "start_time": "2018-08-13T20:27:12.737529Z"
    }
   },
   "outputs": [
    {
     "name": "stdout",
     "output_type": "stream",
     "text": [
      "LSTM outputs for each step [batch,time,n_tokens]:\n",
      "(10, 50, 56)\n"
     ]
    }
   ],
   "source": [
    "class CustomRNN(tf.nn.rnn_cell.BasicRNNCell):\n",
    "    def call(self, input, state):\n",
    "        # from docs:\n",
    "        # Returns:\n",
    "        # Output: A 2-D tensor with shape [batch_size, self.output_size].\n",
    "        # New state: Either a single 2-D tensor, or a tuple of tensors matching the arity and shapes of state.\n",
    "        return rnn_one_step(input[:, 0], state)\n",
    "    \n",
    "    @property\n",
    "    def output_size(self):\n",
    "        return n_tokens\n",
    "    \n",
    "cell = CustomRNN(rnn_num_units)\n",
    "\n",
    "input_sequence = tf.placeholder(tf.int32, (None, None))\n",
    "    \n",
    "predicted_probas, last_state = tf.nn.dynamic_rnn(cell, input_sequence[:, :, None], dtype=tf.float32)\n",
    "\n",
    "print('LSTM outputs for each step [batch,time,n_tokens]:')\n",
    "print(predicted_probas.eval({input_sequence: to_matrix(names[:10], max_len=50)}).shape)"
   ]
  },
  {
   "cell_type": "markdown",
   "metadata": {},
   "source": [
    "Note that we never used MAX_LENGTH in the code above: TF will iterate over however many time-steps you gave it.\n",
    "\n",
    "You can also use any pre-implemented RNN cell:"
   ]
  },
  {
   "cell_type": "code",
   "execution_count": 62,
   "metadata": {
    "ExecuteTime": {
     "end_time": "2018-08-13T20:27:12.981697Z",
     "start_time": "2018-08-13T20:27:12.977590Z"
    }
   },
   "outputs": [
    {
     "name": "stdout",
     "output_type": "stream",
     "text": [
      "BasicLSTMCell\tBasicRNNCell\tGRUCell\tLSTMCell\tMultiRNNCell\tRNNCell\tBasicLSTMCell\tBasicRNNCell\tBidirectionalGridLSTMCell\tCoupledInputForgetGateLSTMCell\tFusedRNNCell\tGLSTMCell\tGRUBlockCell\tGRUCell\tGridLSTMCell\tIntersectionRNNCell\tLSTMBlockCell\tLSTMBlockFusedCell\tLSTMCell\tLayerNormBasicLSTMCell\tMultiRNNCell\tNASCell\tPhasedLSTMCell\tRNNCell\tTimeFreqLSTMCell\tUGRNNCell\t"
     ]
    }
   ],
   "source": [
    "for obj in dir(tf.nn.rnn_cell) + dir(tf.contrib.rnn):\n",
    "    if obj.endswith('Cell'):\n",
    "        print(obj, end=\"\\t\")"
   ]
  },
  {
   "cell_type": "code",
   "execution_count": 63,
   "metadata": {
    "ExecuteTime": {
     "end_time": "2018-08-13T20:27:13.168207Z",
     "start_time": "2018-08-13T20:27:12.986884Z"
    }
   },
   "outputs": [
    {
     "name": "stdout",
     "output_type": "stream",
     "text": [
      "LSTM hidden state for each step [batch,time,rnn_num_units]:\n",
      "(10, 50, 64)\n"
     ]
    }
   ],
   "source": [
    "input_sequence = tf.placeholder(tf.int32, (None, None))\n",
    "\n",
    "inputs_embedded = embed_x(input_sequence)\n",
    "\n",
    "# standard cell returns hidden state as output!\n",
    "cell = tf.nn.rnn_cell.LSTMCell(rnn_num_units)\n",
    "\n",
    "state_sequence, last_state = tf.nn.dynamic_rnn(cell, inputs_embedded, dtype=tf.float32)\n",
    "\n",
    "s.run(tf.global_variables_initializer())\n",
    "\n",
    "print('LSTM hidden state for each step [batch,time,rnn_num_units]:')\n",
    "print(state_sequence.eval({input_sequence: to_matrix(names[:10], max_len=50)}).shape)"
   ]
  },
  {
   "cell_type": "code",
   "execution_count": null,
   "metadata": {
    "collapsed": true
   },
   "outputs": [],
   "source": []
  }
 ],
 "metadata": {
  "kernelspec": {
   "display_name": "Python 3",
   "language": "python",
   "name": "python3"
  },
  "language_info": {
   "codemirror_mode": {
    "name": "ipython",
    "version": 3
   },
   "file_extension": ".py",
   "mimetype": "text/x-python",
   "name": "python",
   "nbconvert_exporter": "python",
   "pygments_lexer": "ipython3",
   "version": "3.6.2"
  }
 },
 "nbformat": 4,
 "nbformat_minor": 1
}
